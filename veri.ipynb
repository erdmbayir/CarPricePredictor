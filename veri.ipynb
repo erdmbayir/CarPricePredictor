{
 "cells": [
  {
   "cell_type": "code",
   "execution_count": 5,
   "id": "c267cbbf-46ef-4951-9267-b4477b5934d8",
   "metadata": {},
   "outputs": [
    {
     "name": "stdout",
     "output_type": "stream",
     "text": [
      "500 satırlık veri seti başarıyla oluşturuldu ve 'veri.csv' dosyasına kaydedildi.\n"
     ]
    }
   ],
   "source": [
    "import pandas as pd\n",
    "import numpy as np\n",
    "import random\n",
    "\n",
    "# Rastgele veri üretmek için yardımcı fonksiyonlar\n",
    "def random_marka_model():\n",
    "    marka_model = [\n",
    "        ('Toyota', 'Corolla'),\n",
    "        ('Ford', 'Focus'),\n",
    "        ('Tesla', 'Model 3'),\n",
    "        ('BMW', '320i'),\n",
    "        ('Mercedes', 'C-Class'),\n",
    "        ('Audi', 'A4'),\n",
    "        ('Volkswagen', 'Golf'),\n",
    "        ('Honda', 'Civic'),\n",
    "        ('Nissan', 'Altima')\n",
    "    ]\n",
    "    return random.choice(marka_model)\n",
    "\n",
    "def random_yil():\n",
    "    return random.randint(2000, 2024)\n",
    "\n",
    "def random_km():\n",
    "    return random.randint(0, 300000)\n",
    "\n",
    "def random_yakit():\n",
    "    return random.choice(['Benzin', 'Dizel', 'Elektrikli', 'Hibrit'])\n",
    "\n",
    "def random_vites():\n",
    "    return random.choice(['Otomatik', 'Manuel'])\n",
    "\n",
    "def random_motor_hacmi():\n",
    "    return round(random.uniform(1.0, 4.0), 1)\n",
    "\n",
    "def random_guc():\n",
    "    return random.randint(60, 400)\n",
    "\n",
    "def random_renk():\n",
    "    return random.choice(['Beyaz', 'Gri', 'Siyah', 'Mavi', 'Kırmızı'])\n",
    "\n",
    "def random_durum():\n",
    "    return random.choice(['Sıfır', 'İkinci El'])\n",
    "\n",
    "def random_fiyat():\n",
    "    return random.randint(50000, 500000)\n",
    "\n",
    "# 500 satırlık veri oluşturma\n",
    "data = {\n",
    "    'Marka': [],\n",
    "    'Model': [],\n",
    "    'Yıl': [random_yil() for _ in range(500)],\n",
    "    'Kilometre': [random_km() for _ in range(500)],\n",
    "    'Yakıt Türü': [random_yakit() for _ in range(500)],\n",
    "    'Vites Türü': [random_vites() for _ in range(500)],\n",
    "    'Motor Hacmi': [random_motor_hacmi() for _ in range(500)],\n",
    "    'Güç (HP)': [random_guc() for _ in range(500)],\n",
    "    'Renk': [random_renk() for _ in range(500)],\n",
    "    'Durum': [random_durum() for _ in range(500)],\n",
    "    'Fiyat (TL)': [random_fiyat() for _ in range(500)]\n",
    "}\n",
    "\n",
    "# Marka ve model verilerini ekleme\n",
    "for _ in range(500):\n",
    "    marka, model = random_marka_model()\n",
    "    data['Marka'].append(marka)\n",
    "    data['Model'].append(model)\n",
    "\n",
    "# DataFrame oluşturma\n",
    "df = pd.DataFrame(data)\n",
    "\n",
    "# Veri setini .csv olarak kaydetme\n",
    "df.to_csv('veri.csv', index=False)\n",
    "\n",
    "print(\"500 satırlık veri seti başarıyla oluşturuldu ve 'veri.csv' dosyasına kaydedildi.\")\n"
   ]
  },
  {
   "cell_type": "code",
   "execution_count": null,
   "id": "90742051-fa12-4e87-ba50-f050637b42dd",
   "metadata": {},
   "outputs": [],
   "source": []
  }
 ],
 "metadata": {
  "kernelspec": {
   "display_name": "Python 3 (ipykernel)",
   "language": "python",
   "name": "python3"
  },
  "language_info": {
   "codemirror_mode": {
    "name": "ipython",
    "version": 3
   },
   "file_extension": ".py",
   "mimetype": "text/x-python",
   "name": "python",
   "nbconvert_exporter": "python",
   "pygments_lexer": "ipython3",
   "version": "3.12.4"
  }
 },
 "nbformat": 4,
 "nbformat_minor": 5
}
